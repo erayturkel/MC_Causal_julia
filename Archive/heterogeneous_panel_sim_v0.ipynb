{
 "cells": [
  {
   "cell_type": "code",
   "execution_count": 1,
   "metadata": {},
   "outputs": [],
   "source": [
    "# Imports\n",
    "using Distributions\n",
    "using LinearAlgebra\n",
    "using DataFrames, CSV\n",
    "using Distributions\n",
    "using Random"
   ]
  },
  {
   "cell_type": "code",
   "execution_count": 3,
   "metadata": {},
   "outputs": [],
   "source": [
    "global T_timescale = 78 ## 1.5 years\n",
    "global T_monitoring = 24 ## duration of monitoring period in weeks\n",
    "global N_cohort = 3\n",
    "global Quota = N_cohort*500\n",
    "\n",
    "mutable struct Date\n",
    "    id::Integer ## day of the year\n",
    "    X::AbstractFloat ## This could be a date fixed effect or a vector of date characteristics\n",
    "end\n",
    "\n",
    "# mutable struct Cohort\n",
    "#     id::Integer ## Cohort ID\n",
    "#     min_date::Integer ## First date anyone in the cohort can enter; Assume time is indexed from 0 to 365\n",
    "#     max_date::Integer ## Laste date anyone in the cohort can enter; Note -- cohort entries may overlap (maybe...)\n",
    "# end\n",
    "\n",
    "# mutable struct Trip\n",
    "#     date::Integer ## date of trip\n",
    "#     departure::AbstractFloat ## time of departure\n",
    "#     duration::AbstractFloat ## trip duration\n",
    "#     distance::AbstractFloat ## trip distance\n",
    "# end\n",
    "\n",
    "# mutable struct Rider\n",
    "#     id::Integer ## rider ID\n",
    "#     cohort_id::Integer ## rider's cohord ID\n",
    "#     X::Vector{AbstractFloat}  ## rider characteristics\n",
    "#     init_date::Integer ## Rider's date of entry\n",
    "#     trips::Vector{Trip}\n",
    "# end\n",
    "\n",
    "mutable struct BasicOutcome\n",
    "    date::Integer ## date of trip\n",
    "    y::AbstractFloat ## outcome\n",
    "end\n",
    "\n",
    "mutable struct BasicRider\n",
    "    id::Integer ## rider ID\n",
    "    cohort_id::Integer ## rider's cohord ID -- in order of the cohort array\n",
    "    X::Vector{AbstractFloat}  ## rider characteristics\n",
    "    init_date::Integer ## Rider's date of entry\n",
    "    min_date::Integer ## First date anyone in the cohort can enter; Assume time is indexed from 0 to 365\n",
    "    max_date::Integer ## Laste date anyone in the cohort can enter; Note -- cohort entries may overlap (maybe...)\n",
    "    outcomes::Vector{BasicOutcome} ## outcome draws\n",
    "end\n",
    "\n",
    "mutable struct BasicCohort\n",
    "#     id::Integer ## Cohort ID\n",
    "    init_coeff::AbstractFloat ## alpha_t for the cohort\n",
    "end\n"
   ]
  },
  {
   "cell_type": "code",
   "execution_count": 4,
   "metadata": {},
   "outputs": [
    {
     "data": {
      "text/plain": [
       "Gumbel{Float64}(μ=0.0, θ=1.0)"
      ]
     },
     "execution_count": 4,
     "metadata": {},
     "output_type": "execute_result"
    }
   ],
   "source": [
    "### Defining Statistical Distributions ##\n",
    "\n",
    "## Set seed\n",
    "rng_seed = MersenneTwister(1234);\n",
    "\n",
    "## Multidimensional Gaussian\n",
    "function get_mvnormal_dist(d = 5, η = 1)\n",
    "    # Dimensionality\n",
    "    # d = 5\n",
    "    # η = 1 # Uniform distribution over correlation matrices\n",
    "\n",
    "    # Distribution setup\n",
    "    Ω_dist = LKJ(d, η)\n",
    "    σ_dist = InverseGamma(2, 3)\n",
    "    μ_dist = MvNormal(5, 1)\n",
    "\n",
    "    # Draw values\n",
    "    Ω = rand(Ω_dist)                 # Correlation matrix\n",
    "    σ = sqrt.(rand(σ_dist, d))       # Individual standard deviations\n",
    "    μ = rand(μ_dist)                 # Mean vector\n",
    "\n",
    "    # Create covariance matrix\n",
    "    # Need to specify Symmetric(...) to enforce symmetry, otherwise\n",
    "    # possible non-Hermitian error.\n",
    "    Σ = Symmetric(diagm(σ)*Ω*diagm(σ))\n",
    "\n",
    "    # Create random mean/variance distribution\n",
    "    mvnormal_dist = MvNormal(μ, Σ)\n",
    "    return(mvnormal_dist)\n",
    "end\n",
    "\n",
    "## Standard Gumbel errors\n",
    "standard_gumbel_dist = Gumbel()"
   ]
  },
  {
   "cell_type": "code",
   "execution_count": 6,
   "metadata": {},
   "outputs": [
    {
     "data": {
      "text/plain": [
       "draw_init_date! (generic function with 1 method)"
      ]
     },
     "execution_count": 6,
     "metadata": {},
     "output_type": "execute_result"
    }
   ],
   "source": [
    "## Recruitment Distribution ##\n",
    "\n",
    "### Idea: Each recruit must be added between time 0 and the end of the year: p \\in (0, 1) * 365\n",
    "###       Draw t = inv_logit(alpha_t + beta_t*X)\n",
    "###       Outcomes are O_it ~ f(mu*X_i, gamma*X_t)\n",
    "\n",
    "\n",
    "function inv_logit(x)\n",
    "   return exp.(x)./(1 .+ exp.(x)); \n",
    "end\n",
    "\n",
    "function logit(p)\n",
    "   return log.(p ./ (1 .- p)) \n",
    "end\n",
    "\n",
    "logit_scaler = 25 ## logit is most potent on the support -5 to 5, so we can either choose imputs more intelligently or choose a scaler\n",
    "\n",
    "function draw_init_date!(rider, β_t)\n",
    "    t_i = round(inv_logit((cohort_array[rider.cohort_id].init_coeff + β_t'*rider.X)/logit_scaler) * T_timescale);\n",
    "    rider.init_date = t_i;\n",
    "    rider.min_date = max(t_i - T_monitoring,0);\n",
    "    rider.max_date = min(t_i + T_monitoring, T_timescale);\n",
    "end\n",
    "\n",
    "# function linear_outcomes()"
   ]
  },
  {
   "cell_type": "code",
   "execution_count": 7,
   "metadata": {},
   "outputs": [],
   "source": [
    "## Instantiate cohort\n",
    "cohort_array = Array{BasicCohort}(undef, N_cohort);\n",
    "cohort_init_dist = [15, 40, 60] # ## we can simulate this instead: cohort_init_dist = Uniform(0,T_timescale) \n",
    "\n",
    "for c in 1:N_cohort\n",
    "    draw = cohort_init_dist[c]\n",
    "    cohort_array[c] = BasicCohort(draw)\n",
    "end\n",
    "\n",
    "## Instantiate Dates\n",
    "date_array = Array{Date}(undef, T_timescale);\n",
    "date_fe_dist = Normal(0, 2);\n",
    "\n",
    "for t in 1:T_timescale\n",
    "   date_array[t] = Date(t, rand(rng_seed, date_fe_dist))\n",
    "end\n",
    "\n",
    "\n",
    "## Instantiate Individuals\n",
    "panel_array = Array{BasicRider}(undef, Quota);\n",
    "indiv_X_dist = get_mvnormal_dist()\n",
    "init_date_dist = Normal(0,2);\n",
    "β_t_draw = rand(init_date_dist, 5);\n",
    "\n",
    "N_per_cohort = Integer(floor(Quota/N_cohort));\n",
    "for i in 1:N_per_cohort\n",
    "    for c in 1:N_cohort\n",
    "        new_rider = BasicRider(i, c, rand(rng_seed, indiv_X_dist), 0, 0, 0, [])\n",
    "        draw_init_date!(new_rider, β_t_draw);\n",
    "        \n",
    "        panel_array[N_per_cohort*(c-1)+i] = new_rider\n",
    "    end\n",
    "end\n",
    "\n"
   ]
  },
  {
   "cell_type": "code",
   "execution_count": 24,
   "metadata": {},
   "outputs": [],
   "source": [
    "indiv_outcome_dist = Normal(0.2,0.5);\n",
    "date_outcome_dist = Normal(0,0.1);\n",
    "treatment_dist = Normal(-1, 0.1);\n",
    "\n",
    "β_i_draw = rand(rng_seed, indiv_outcome_dist, 5);\n",
    "γ_t_draw = rand(rng_seed, date_outcome_dist);\n",
    "τ_draw = rand(rng_seed, treatment_dist);\n"
   ]
  },
  {
   "cell_type": "code",
   "execution_count": 23,
   "metadata": {},
   "outputs": [],
   "source": [
    "for i in 1:Quota\n",
    "    indiv_effect = β_i_draw'*rider.X;\n",
    "    treatment_effect = τ_draw * inv_logit(β_i_draw'*rider.X);\n",
    "    \n",
    "    outcomes_before_treatment = [BasicOutcome(t,indiv_effect + γ_t_draw'*date_array[t].X) for t=rider.min_date:rider.init_date];\n",
    "    outcomes_after_treatment = [BasicOutcome(t,indiv_effect + γ_t_draw'*date_array[t].X + treatment_effect) for t=(rider.init_date+1):rider.max_date];\n",
    "    \n",
    "    panel_array[i].outcomes = vcat(outcomes_before_treatment, outcomes_after_treatment);\n",
    "    \n",
    "end"
   ]
  },
  {
   "cell_type": "code",
   "execution_count": null,
   "metadata": {},
   "outputs": [],
   "source": []
  }
 ],
 "metadata": {
  "kernelspec": {
   "display_name": "Julia 1.5.1",
   "language": "julia",
   "name": "julia-1.5"
  },
  "language_info": {
   "file_extension": ".jl",
   "mimetype": "application/julia",
   "name": "julia",
   "version": "1.5.1"
  }
 },
 "nbformat": 4,
 "nbformat_minor": 4
}
